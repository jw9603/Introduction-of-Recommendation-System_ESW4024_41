{
 "cells": [
  {
   "cell_type": "code",
   "execution_count": 1,
   "metadata": {},
   "outputs": [
    {
     "name": "stdout",
     "output_type": "stream",
     "text": [
      "# of users: 943,  # of items: 1682,  # of ratings: 100000\n",
      "train_data size [[3. 0. 0. ... 0. 0. 0.]\n",
      " [0. 0. 0. ... 0. 0. 0.]\n",
      " [0. 0. 1. ... 0. 0. 0.]\n",
      " ...\n",
      " [0. 0. 0. ... 0. 0. 0.]\n",
      " [0. 4. 0. ... 0. 0. 0.]\n",
      " [0. 0. 0. ... 0. 0. 0.]]\n",
      "valid_data size (943, 1682)\n",
      "test_data size (943, 1682)\n",
      "model training...\n"
     ]
    },
    {
     "name": "stderr",
     "output_type": "stream",
     "text": [
      "user_user_sim_matrix (k=1): 100%|██████████| 943/943 [00:08<00:00, 109.14it/s]\n"
     ]
    },
    {
     "name": "stdout",
     "output_type": "stream",
     "text": [
      "training time:  8.646371126174927\n",
      "model evaluation\n",
      "evaluation time:  0.7985849380493164\n",
      "model training...\n"
     ]
    },
    {
     "name": "stderr",
     "output_type": "stream",
     "text": [
      "user_user_sim_matrix (k=5): 100%|██████████| 943/943 [00:08<00:00, 108.78it/s]\n"
     ]
    },
    {
     "name": "stdout",
     "output_type": "stream",
     "text": [
      "training time:  8.67514181137085\n",
      "model evaluation\n",
      "evaluation time:  0.7904222011566162\n",
      "model training...\n"
     ]
    },
    {
     "name": "stderr",
     "output_type": "stream",
     "text": [
      "user_user_sim_matrix (k=10): 100%|██████████| 943/943 [00:08<00:00, 109.12it/s]\n"
     ]
    },
    {
     "name": "stdout",
     "output_type": "stream",
     "text": [
      "training time:  8.647294282913208\n",
      "model evaluation\n",
      "evaluation time:  0.8006887435913086\n",
      "model training...\n"
     ]
    },
    {
     "name": "stderr",
     "output_type": "stream",
     "text": [
      "user_user_sim_matrix (k=100): 100%|██████████| 943/943 [00:08<00:00, 108.19it/s]\n"
     ]
    },
    {
     "name": "stdout",
     "output_type": "stream",
     "text": [
      "training time:  8.721884727478027\n",
      "model evaluation\n",
      "evaluation time:  0.825714111328125\n",
      "model training...\n"
     ]
    },
    {
     "name": "stderr",
     "output_type": "stream",
     "text": [
      "user_user_sim_matrix (k=500): 100%|██████████| 943/943 [00:08<00:00, 108.39it/s]\n"
     ]
    },
    {
     "name": "stdout",
     "output_type": "stream",
     "text": [
      "training time:  8.705359935760498\n",
      "model evaluation\n",
      "evaluation time:  0.8394780158996582\n",
      "model training...\n"
     ]
    },
    {
     "name": "stderr",
     "output_type": "stream",
     "text": [
      "item_item_sim_matrix (k=1): 100%|██████████| 1682/1682 [00:26<00:00, 62.45it/s] \n"
     ]
    },
    {
     "name": "stdout",
     "output_type": "stream",
     "text": [
      "training time:  26.94865870475769\n",
      "model evaluation\n",
      "model training...\n"
     ]
    },
    {
     "name": "stderr",
     "output_type": "stream",
     "text": [
      "item_item_sim_matrix (k=5): 100%|██████████| 1682/1682 [00:26<00:00, 63.64it/s] \n"
     ]
    },
    {
     "name": "stdout",
     "output_type": "stream",
     "text": [
      "training time:  26.444217443466187\n",
      "model evaluation\n",
      "model training...\n"
     ]
    },
    {
     "name": "stderr",
     "output_type": "stream",
     "text": [
      "item_item_sim_matrix (k=10): 100%|██████████| 1682/1682 [00:26<00:00, 63.30it/s] \n"
     ]
    },
    {
     "name": "stdout",
     "output_type": "stream",
     "text": [
      "training time:  26.585651874542236\n",
      "model evaluation\n",
      "model training...\n"
     ]
    },
    {
     "name": "stderr",
     "output_type": "stream",
     "text": [
      "item_item_sim_matrix (k=100): 100%|██████████| 1682/1682 [00:26<00:00, 62.61it/s] \n"
     ]
    },
    {
     "name": "stdout",
     "output_type": "stream",
     "text": [
      "training time:  26.87846803665161\n",
      "model evaluation\n",
      "model training...\n"
     ]
    },
    {
     "name": "stderr",
     "output_type": "stream",
     "text": [
      "item_item_sim_matrix (k=500): 100%|██████████| 1682/1682 [00:26<00:00, 62.64it/s] \n"
     ]
    },
    {
     "name": "stdout",
     "output_type": "stream",
     "text": [
      "training time:  26.864619970321655\n",
      "model evaluation\n",
      "RMSE on Test Data\n",
      "UserKNN,K=1: 1.737231\n",
      "UserKNN,K=5: 1.119028\n",
      "UserKNN,K=10: 1.040761\n",
      "UserKNN,K=100: 0.963961\n",
      "UserKNN,K=500: 0.964693\n",
      "ItemKNN,K=1: 2.050220\n",
      "ItemKNN,K=5: 1.165208\n",
      "ItemKNN,K=10: 1.052499\n",
      "ItemKNN,K=100: 0.988824\n",
      "ItemKNN,K=500: 0.988756\n"
     ]
    },
    {
     "data": {
      "text/plain": [
       "[<matplotlib.lines.Line2D at 0x7fec6ed18e90>]"
      ]
     },
     "execution_count": 1,
     "metadata": {},
     "output_type": "execute_result"
    },
    {
     "data": {
      "image/png": "[encoded data removed]",
      "text/plain": [
       "<Figure size 640x480 with 1 Axes>"
      ]
     },
     "metadata": {},
     "output_type": "display_data"
    }
   ],
   "source": [
    "# 기본 패키지 import\n",
    "import warnings\n",
    "import random\n",
    "import numpy as np\n",
    "from time import time\n",
    "from utils import load_data\n",
    "\n",
    "\n",
    "warnings.filterwarnings('ignore')\n",
    "\n",
    "def seed_everything(random_seed):\n",
    "    np.random.seed(random_seed)\n",
    "    random.seed(random_seed)\n",
    "\n",
    "seed = 1\n",
    "seed_everything(seed)\n",
    "\n",
    "\n",
    "from models.UserKNN_explicit import UserKNN\n",
    "from models.ItemKNN_explicit import ItemKNN\n",
    "\n",
    "\"\"\"\n",
    "dataset loading\n",
    "\"\"\"\n",
    "dataset = \"movielens_100k.csv\"\n",
    "train_data, valid_data, test_data = load_data(dataset, implicit=False)\n",
    "\n",
    "print('train_data size',train_data)\n",
    "print('valid_data size',valid_data.shape)\n",
    "print('test_data size',test_data.shape)\n",
    "\n",
    "# for i, row in enumerate(train_data):\n",
    "#     print('i',i)\n",
    "#     print('row',row)\n",
    "#     train_data[i,np.where(row<0.5)] = np.nan\n",
    "#     print('glglrow',row)\n",
    "\n",
    "\n",
    "time_start = time()\n",
    "userknn_RMSE1 = UserKNN(train=np.copy(train_data), valid=valid_data, test= test_data, top_k=1)\n",
    "userknn_RMSE5 = UserKNN(train=np.copy(train_data), valid=valid_data, test= test_data, top_k=5)\n",
    "userknn_RMSE10 = UserKNN(train=np.copy(train_data), valid=valid_data, test= test_data, top_k=10)\n",
    "userknn_RMSE100 = UserKNN(train=np.copy(train_data), valid=valid_data, test= test_data, top_k=100)\n",
    "userknn_RMSE500 = UserKNN(train=np.copy(train_data), valid=valid_data, test= test_data, top_k=500)\n",
    "itemknn_RMSE1 = ItemKNN(train=np.copy(train_data), valid=valid_data, test=test_data, top_k=1)    \n",
    "itemknn_RMSE5 = ItemKNN(train=np.copy(train_data), valid=valid_data, test=test_data, top_k=5) \n",
    "itemknn_RMSE10 = ItemKNN(train=np.copy(train_data), valid=valid_data, test=test_data, top_k=10) \n",
    "itemknn_RMSE100 = ItemKNN(train=np.copy(train_data), valid=valid_data, test=test_data, top_k=100) \n",
    "itemknn_RMSE500 = ItemKNN(train=np.copy(train_data), valid=valid_data, test=test_data, top_k=500) \n",
    "\n",
    "############ PLOT #################################\n",
    "import matplotlib.pyplot as plt\n",
    "print(\"RMSE on Test Data\")\n",
    "print(\"UserKNN,K=1: %f\"%(userknn_RMSE1))\n",
    "print(\"UserKNN,K=5: %f\"%(userknn_RMSE5))\n",
    "print(\"UserKNN,K=10: %f\"%(userknn_RMSE10))\n",
    "print(\"UserKNN,K=100: %f\"%(userknn_RMSE100))\n",
    "print(\"UserKNN,K=500: %f\"%(userknn_RMSE500))\n",
    "print(\"ItemKNN,K=1: %f\"%(itemknn_RMSE1))\n",
    "print(\"ItemKNN,K=5: %f\"%(itemknn_RMSE5))\n",
    "print(\"ItemKNN,K=10: %f\"%(itemknn_RMSE10))\n",
    "print(\"ItemKNN,K=100: %f\"%(itemknn_RMSE100))\n",
    "print(\"ItemKNN,K=500: %f\"%(itemknn_RMSE500))\n",
    "k = [1,5,10,100,500]\n",
    "user_rmse = [userknn_RMSE1,userknn_RMSE5,userknn_RMSE10,userknn_RMSE100,userknn_RMSE500]\n",
    "item_rmse = [itemknn_RMSE1,itemknn_RMSE5,itemknn_RMSE10,itemknn_RMSE100,itemknn_RMSE500]\n",
    "\n",
    "\n",
    "plt.plot(k,user_rmse)"
   ]
  },
  {
   "cell_type": "code",
   "execution_count": 2,
   "metadata": {},
   "outputs": [
    {
     "data": {
      "text/plain": [
       "[<matplotlib.lines.Line2D at 0x7fec6d88e050>]"
      ]
     },
     "execution_count": 2,
     "metadata": {},
     "output_type": "execute_result"
    },
    {
     "data": {
      "image/png": "[encoded data removed]",
      "text/plain": [
       "<Figure size 640x480 with 1 Axes>"
      ]
     },
     "metadata": {},
     "output_type": "display_data"
    }
   ],
   "source": [
    "plt.plot(k,item_rmse)"
   ]
  }
 ],
 "metadata": {
  "kernelspec": {
   "display_name": "Python 3",
   "language": "python",
   "name": "python3"
  },
  "language_info": {
   "codemirror_mode": {
    "name": "ipython",
    "version": 3
   },
   "file_extension": ".py",
   "mimetype": "text/x-python",
   "name": "python",
   "nbconvert_exporter": "python",
   "pygments_lexer": "ipython3",
   "version": "3.7.16"
  },
  "orig_nbformat": 4,
  "vscode": {
   "interpreter": {
    "hash": "8addaabea1cb039ebd0cad50c57d5e545a2dd9c4864cd769240013056fee56e3"
   }
  }
 },
 "nbformat": 4,
 "nbformat_minor": 2
}
