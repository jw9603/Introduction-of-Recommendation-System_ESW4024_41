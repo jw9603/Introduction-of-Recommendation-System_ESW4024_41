{
 "cells": [
  {
   "cell_type": "code",
   "execution_count": 2,
   "metadata": {},
   "outputs": [],
   "source": [
    "import numpy as np\n",
    "import warnings\n",
    "import random\n",
    "import numpy as np\n",
    "from time import time\n",
    "from tqdm import tqdm"
   ]
  },
  {
   "cell_type": "code",
   "execution_count": 2,
   "metadata": {},
   "outputs": [
    {
     "name": "stdout",
     "output_type": "stream",
     "text": [
      "/home/jiwon/recommender_system/HW1-3/Code\n"
     ]
    }
   ],
   "source": [
    "!pwd"
   ]
  },
  {
   "cell_type": "code",
   "execution_count": 4,
   "metadata": {},
   "outputs": [
    {
     "name": "stdout",
     "output_type": "stream",
     "text": [
      "# of users: 943,  # of items: 1682,  # of ratings: 100000\n",
      "train_data size [[3. 0. 0. ... 0. 0. 0.]\n",
      " [0. 0. 0. ... 0. 0. 0.]\n",
      " [0. 0. 1. ... 0. 0. 0.]\n",
      " ...\n",
      " [0. 0. 0. ... 0. 0. 0.]\n",
      " [0. 4. 0. ... 0. 0. 0.]\n",
      " [0. 0. 0. ... 0. 0. 0.]]\n",
      "valid_data size (943, 1682)\n",
      "test_data size (943, 1682)\n"
     ]
    }
   ],
   "source": [
    "\n",
    "from models.UserKNN_explicit import UserKNN\n",
    "from models.ItemKNN_explicit import ItemKNN\n",
    "from utils import load_data\n",
    "dataset = \"movielens_100k.csv\"\n",
    "train_data, valid_data, test_data = load_data(dataset, implicit=False)\n",
    "\n",
    "print('train_data size',train_data)\n",
    "print('valid_data size',valid_data.shape)\n",
    "print('test_data size',test_data.shape)"
   ]
  },
  {
   "cell_type": "code",
   "execution_count": 5,
   "metadata": {},
   "outputs": [
    {
     "name": "stdout",
     "output_type": "stream",
     "text": [
      "(943, 1)\n",
      "(943, 1682)\n"
     ]
    }
   ],
   "source": [
    "for i,row in enumerate(train_data):\n",
    "    train_data[i,np.where(row<0.5)[0]] = np.nan\n",
    "    \n",
    "user_mean = np.nanmean(train_data,axis=1)\n",
    "# print(user_mean.shape)\n",
    "# print(user_mean[0])\n",
    "# print(np.isnan(user_mean))\n",
    "user_mean[np.isnan(user_mean)] = 0.0\n",
    "print(user_mean[:,None].shape)\n",
    "train = train_data - user_mean[:,None]\n",
    "print(train.shape)\n",
    "user_user_sim_matrix = np.zeros((943, 943))\n",
    "item_item_sim_matrix = np.zeros((1682,1682))"
   ]
  },
  {
   "cell_type": "code",
   "execution_count": 10,
   "metadata": {},
   "outputs": [
    {
     "name": "stderr",
     "output_type": "stream",
     "text": [
      "item_item_sim_matrix (k=10):   0%|          | 0/1682 [00:00<?, ?it/s]"
     ]
    },
    {
     "name": "stdout",
     "output_type": "stream",
     "text": [
      "0\n",
      "1\n",
      "(25,)\n",
      "(25,)\n",
      "[[0.         0.54784129 0.         ... 0.         0.         0.        ]\n",
      " [0.         0.         0.         ... 0.         0.         0.        ]\n",
      " [0.         0.         0.         ... 0.         0.         0.        ]\n",
      " ...\n",
      " [0.         0.         0.         ... 0.         0.         0.        ]\n",
      " [0.         0.         0.         ... 0.         0.         0.        ]\n",
      " [0.         0.         0.         ... 0.         0.         0.        ]]\n"
     ]
    },
    {
     "name": "stderr",
     "output_type": "stream",
     "text": [
      "\n"
     ]
    },
    {
     "ename": "AssertionError",
     "evalue": "",
     "output_type": "error",
     "traceback": [
      "\u001b[0;31m---------------------------------------------------------------------------\u001b[0m",
      "\u001b[0;31mAssertionError\u001b[0m                            Traceback (most recent call last)",
      "\u001b[0;32m/tmp/ipykernel_1186208/2008869651.py\u001b[0m in \u001b[0;36m<module>\u001b[0;34m\u001b[0m\n\u001b[1;32m     26\u001b[0m         \u001b[0mitem_item_sim_matrix\u001b[0m\u001b[0;34m[\u001b[0m\u001b[0mitem_i\u001b[0m\u001b[0;34m,\u001b[0m \u001b[0mitem_j\u001b[0m\u001b[0;34m]\u001b[0m \u001b[0;34m=\u001b[0m \u001b[0mdot_a_b\u001b[0m \u001b[0;34m/\u001b[0m \u001b[0;34m(\u001b[0m\u001b[0mnp\u001b[0m\u001b[0;34m.\u001b[0m\u001b[0mlinalg\u001b[0m\u001b[0;34m.\u001b[0m\u001b[0mnorm\u001b[0m\u001b[0;34m(\u001b[0m\u001b[0ma\u001b[0m\u001b[0;34m)\u001b[0m \u001b[0;34m*\u001b[0m \u001b[0mnp\u001b[0m\u001b[0;34m.\u001b[0m\u001b[0mlinalg\u001b[0m\u001b[0;34m.\u001b[0m\u001b[0mnorm\u001b[0m\u001b[0;34m(\u001b[0m\u001b[0mb\u001b[0m\u001b[0;34m)\u001b[0m\u001b[0;34m)\u001b[0m\u001b[0;34m\u001b[0m\u001b[0;34m\u001b[0m\u001b[0m\n\u001b[1;32m     27\u001b[0m         \u001b[0mprint\u001b[0m\u001b[0;34m(\u001b[0m\u001b[0mitem_item_sim_matrix\u001b[0m\u001b[0;34m)\u001b[0m\u001b[0;34m\u001b[0m\u001b[0;34m\u001b[0m\u001b[0m\n\u001b[0;32m---> 28\u001b[0;31m         \u001b[0;32massert\u001b[0m \u001b[0;34m-\u001b[0m\u001b[0;36m1\u001b[0m \u001b[0;34m==\u001b[0m\u001b[0;36m0\u001b[0m\u001b[0;34m\u001b[0m\u001b[0;34m\u001b[0m\u001b[0m\n\u001b[0m",
      "\u001b[0;31mAssertionError\u001b[0m: "
     ]
    }
   ],
   "source": [
    "top_k=10\n",
    "for item_i in tqdm(range(0, 1682), desc='item_item_sim_matrix (k=%d)' % top_k):\n",
    "    for item_j in range(item_i+1,1682):\n",
    "        print(item_i)\n",
    "        print(item_j)\n",
    "        a = train.T[item_i]\n",
    "        b = train.T[item_j]\n",
    "        # print('a',a.shape)\n",
    "        # print('b',b.shape)\n",
    "        # print('np.isnan(a)',np.isnan(a))\n",
    "        # print('np.isnan(b)',np.isnan(b))\n",
    "        # print('corated',np.logical_or(np.isnan(a),np.isnan(b)))\n",
    "        # print('corated1',~np.logical_or(np.isnan(a),np.isnan(b)))\n",
    "        \n",
    "        co_rated = ~np.logical_or(np.isnan(a),np.isnan(b))\n",
    "        a = np.compress(co_rated,a)\n",
    "        b = np.compress(co_rated,b)\n",
    "        print(a.shape)\n",
    "        print(b.shape)\n",
    "        if len(a) == 0:\n",
    "                continue \n",
    "\n",
    "        dot_a_b = np.dot(a, b)\n",
    "        if dot_a_b == 0:\n",
    "            continue\n",
    "        item_item_sim_matrix[item_i, item_j] = dot_a_b / (np.linalg.norm(a) * np.linalg.norm(b))\n",
    "        print(item_item_sim_matrix)\n",
    "        assert -1 ==0"
   ]
  },
  {
   "cell_type": "code",
   "execution_count": 6,
   "metadata": {},
   "outputs": [
    {
     "name": "stderr",
     "output_type": "stream",
     "text": [
      "user_user_sim_matrix (k=10):   0%|          | 0/943 [00:00<?, ?it/s]"
     ]
    },
    {
     "name": "stdout",
     "output_type": "stream",
     "text": [
      "0\n",
      "1\n",
      "a (1682,)\n",
      "b (1682,)\n",
      "np.isnan(a) [False  True  True ...  True  True  True]\n",
      "np.isnan(b) [ True  True  True ...  True  True  True]\n",
      "corated [ True  True  True ...  True  True  True]\n",
      "corated1 [False False False ... False False False]\n",
      "(2,)\n",
      "(2,)\n",
      "(943, 943)\n"
     ]
    },
    {
     "name": "stderr",
     "output_type": "stream",
     "text": [
      "\n"
     ]
    },
    {
     "ename": "AssertionError",
     "evalue": "",
     "output_type": "error",
     "traceback": [
      "\u001b[0;31m---------------------------------------------------------------------------\u001b[0m",
      "\u001b[0;31mAssertionError\u001b[0m                            Traceback (most recent call last)",
      "\u001b[0;32m/tmp/ipykernel_1186208/755756561.py\u001b[0m in \u001b[0;36m<module>\u001b[0;34m\u001b[0m\n\u001b[1;32m     26\u001b[0m         \u001b[0muser_user_sim_matrix\u001b[0m\u001b[0;34m[\u001b[0m\u001b[0muser_i\u001b[0m\u001b[0;34m,\u001b[0m \u001b[0muser_j\u001b[0m\u001b[0;34m]\u001b[0m \u001b[0;34m=\u001b[0m \u001b[0mdot_a_b\u001b[0m \u001b[0;34m/\u001b[0m \u001b[0;34m(\u001b[0m\u001b[0mnp\u001b[0m\u001b[0;34m.\u001b[0m\u001b[0mlinalg\u001b[0m\u001b[0;34m.\u001b[0m\u001b[0mnorm\u001b[0m\u001b[0;34m(\u001b[0m\u001b[0ma\u001b[0m\u001b[0;34m)\u001b[0m \u001b[0;34m*\u001b[0m \u001b[0mnp\u001b[0m\u001b[0;34m.\u001b[0m\u001b[0mlinalg\u001b[0m\u001b[0;34m.\u001b[0m\u001b[0mnorm\u001b[0m\u001b[0;34m(\u001b[0m\u001b[0mb\u001b[0m\u001b[0;34m)\u001b[0m\u001b[0;34m)\u001b[0m\u001b[0;34m\u001b[0m\u001b[0;34m\u001b[0m\u001b[0m\n\u001b[1;32m     27\u001b[0m         \u001b[0mprint\u001b[0m\u001b[0;34m(\u001b[0m\u001b[0muser_user_sim_matrix\u001b[0m\u001b[0;34m.\u001b[0m\u001b[0mshape\u001b[0m\u001b[0;34m)\u001b[0m\u001b[0;34m\u001b[0m\u001b[0;34m\u001b[0m\u001b[0m\n\u001b[0;32m---> 28\u001b[0;31m         \u001b[0;32massert\u001b[0m \u001b[0;34m-\u001b[0m\u001b[0;36m1\u001b[0m \u001b[0;34m==\u001b[0m\u001b[0;36m0\u001b[0m\u001b[0;34m\u001b[0m\u001b[0;34m\u001b[0m\u001b[0m\n\u001b[0m",
      "\u001b[0;31mAssertionError\u001b[0m: "
     ]
    }
   ],
   "source": [
    "top_k=10\n",
    "for user_i in tqdm(range(0, 943), desc='user_user_sim_matrix (k=%d)' % top_k):\n",
    "    for user_j in range(user_i+1,943):\n",
    "        print(user_i)\n",
    "        print(user_j)\n",
    "        a = train[user_i]\n",
    "        b = train[user_j]\n",
    "        print('a',a.shape)\n",
    "        print('b',b.shape)\n",
    "        print('np.isnan(a)',np.isnan(a))\n",
    "        print('np.isnan(b)',np.isnan(b))\n",
    "        print('corated',np.logical_or(np.isnan(a),np.isnan(b)))\n",
    "        print('corated1',~np.logical_or(np.isnan(a),np.isnan(b)))\n",
    "        \n",
    "        co_rated = ~np.logical_or(np.isnan(a),np.isnan(b))\n",
    "        a = np.compress(co_rated,a)\n",
    "        b = np.compress(co_rated,b)\n",
    "        print(a.shape)\n",
    "        print(b.shape)\n",
    "        if len(a) == 0:\n",
    "                continue \n",
    "\n",
    "        dot_a_b = np.dot(a, b)\n",
    "        if dot_a_b == 0:\n",
    "            continue\n",
    "        user_user_sim_matrix[user_i, user_j] = dot_a_b / (np.linalg.norm(a) * np.linalg.norm(b))\n",
    "        print(user_user_sim_matrix.shape)\n",
    "        assert -1 ==0"
   ]
  },
  {
   "cell_type": "code",
   "execution_count": null,
   "metadata": {},
   "outputs": [],
   "source": []
  }
 ],
 "metadata": {
  "kernelspec": {
   "display_name": "Python 3",
   "language": "python",
   "name": "python3"
  },
  "language_info": {
   "codemirror_mode": {
    "name": "ipython",
    "version": 3
   },
   "file_extension": ".py",
   "mimetype": "text/x-python",
   "name": "python",
   "nbconvert_exporter": "python",
   "pygments_lexer": "ipython3",
   "version": "3.7.16"
  },
  "orig_nbformat": 4,
  "vscode": {
   "interpreter": {
    "hash": "8addaabea1cb039ebd0cad50c57d5e545a2dd9c4864cd769240013056fee56e3"
   }
  }
 },
 "nbformat": 4,
 "nbformat_minor": 2
}
