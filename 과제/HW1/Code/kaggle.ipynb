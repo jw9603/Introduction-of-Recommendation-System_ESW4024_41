{
 "cells": [
  {
   "cell_type": "code",
   "execution_count": 1,
   "metadata": {},
   "outputs": [],
   "source": [
    "import pandas as pd\n",
    "import numpy as np\n",
    "from surprise.model_selection import train_test_split\n",
    "from surprise import Dataset\n",
    "from surprise import Reader\n",
    "from surprise import accuracy\n",
    "from surprise import KNNBasic, KNNBaseline, KNNWithMeans\n",
    "from surprise import SVD, SVDpp, NMF, SlopeOne, CoClustering\n",
    "from surprise.model_selection import cross_validate\n",
    "from surprise.model_selection import KFold\n",
    "from surprise.model_selection import GridSearchCV\n",
    "from surprise_utils import *\n",
    "from surprise import accuracy\n",
    "import numpy as np\n",
    "import warnings\n",
    "import random\n",
    "import pandas as pd\n",
    "\n",
    "from surprise.model_selection import cross_validate\n"
   ]
  },
  {
   "cell_type": "code",
   "execution_count": 2,
   "metadata": {},
   "outputs": [],
   "source": [
    "sim_options = {\n",
    "    \"name\": \"cosine\",\n",
    "    \"user_based\": False,  # compute  similarities between items\n",
    "    \n",
    "}\n",
    "sim_options1 = {\"name\": \"pearson_baseline\", \"shrinkage\": 0}"
   ]
  },
  {
   "cell_type": "code",
   "execution_count": 3,
   "metadata": {},
   "outputs": [],
   "source": [
    "warnings.filterwarnings('ignore')\n",
    "\n",
    "def seed_everything(random_seed):\n",
    "    np.random.seed(random_seed)\n",
    "    random.seed(random_seed)\n",
    "\n",
    "seed = 1\n",
    "seed_everything(seed)"
   ]
  },
  {
   "cell_type": "code",
   "execution_count": 4,
   "metadata": {},
   "outputs": [],
   "source": [
    "train, valid = load_train_data(\"New_data/train_data.csv\", 0.1)\n",
    "test = load_test_data(\"New_data/test_data.csv\")"
   ]
  },
  {
   "cell_type": "code",
   "execution_count": 5,
   "metadata": {},
   "outputs": [
    {
     "name": "stdout",
     "output_type": "stream",
     "text": [
      "Train complete\n",
      "RMSE: 2.1292\n",
      "Valid RMSE: 2.129156913336238\n",
      "MSE: 4.5333\n",
      "Valid MSE: 4.533309161607495\n",
      "MAE:  1.4819\n",
      "Valid MAE: 1.4819088177188255\n",
      "FCP:  0.5967\n",
      "Valid FCP: 0.5967097074599067\n"
     ]
    }
   ],
   "source": [
    "config = {\n",
    "    \"k\":300,\n",
    "    \"min_k\":10,\n",
    "    \"verbose\":False,\n",
    "    \"sim_option\":sim_options1\n",
    "}\n",
    "model_name = 'KNNBasic'\n",
    "model = fit(train,valid,model_name,config)\n",
    "# pred = predict(model,test,'./result/submission_knnbasic.csv')"
   ]
  },
  {
   "cell_type": "code",
   "execution_count": 6,
   "metadata": {},
   "outputs": [
    {
     "name": "stdout",
     "output_type": "stream",
     "text": [
      "Train complete\n",
      "RMSE: 1.9079\n",
      "Valid RMSE: 1.9079216180127032\n",
      "MSE: 3.6402\n",
      "Valid MSE: 3.6401649004802112\n",
      "MAE:  1.3243\n",
      "Valid MAE: 1.3242874989208981\n",
      "FCP:  0.6016\n",
      "Valid FCP: 0.6015986901317496\n"
     ]
    }
   ],
   "source": [
    "config = {\n",
    "    \"k\":200,\n",
    "    \"min_k\":15,\n",
    "    \"verbose\":False\n",
    "}\n",
    "model_name = 'KNNBaseline'\n",
    "model = fit(train,valid,model_name,config)\n",
    "# pred = predict(model,test,'./result/submission_knnbaseline.csv')\n",
    "pred = predict(model,test)"
   ]
  },
  {
   "cell_type": "code",
   "execution_count": 6,
   "metadata": {},
   "outputs": [
    {
     "name": "stdout",
     "output_type": "stream",
     "text": [
      "Train complete\n",
      "RMSE: 1.9441\n",
      "Valid RMSE: 1.9440922673994394\n",
      "MSE: 3.7795\n",
      "Valid MSE: 3.7794947441622937\n",
      "MAE:  1.3288\n",
      "Valid MAE: 1.328826553240455\n",
      "FCP:  0.5846\n",
      "Valid FCP: 0.5845672809345824\n",
      "Submission clear\n"
     ]
    }
   ],
   "source": [
    "config = {\n",
    "    \"k\":290,\n",
    "    \"min_k\":10,\n",
    "    \"verbose\":False,\n",
    "    \"sim_option\":sim_options1\n",
    "}\n",
    "###########################################grid search###########################################\n",
    "# param_grid = {\"k\": [i for i in range(10,300,10)], \"min_k\": [10,20,30,40,50,60], \"sim_option\":sim_options1}\n",
    "# reader = Reader(\n",
    "#         line_format=\"user item rating\",\n",
    "#         rating_scale=(0, 10),\n",
    "#         sep=',',\n",
    "#         skip_lines=1\n",
    "#     )\n",
    "# data = Dataset.load_from_file('New_data/train_data.csv', reader=reader)\n",
    "# gs = GridSearchCV(KNNWithMeans,param_grid,measures=['rmse','mae'],cv=5)\n",
    "# gs.fit(data)\n",
    "# print(gs.best_score[\"rmse\"])\n",
    "# print(gs.best_params[\"rmse\"])\n",
    "###########################################################################################\n",
    "model_name = 'KNNWithMeans'\n",
    "model = fit(train,valid,model_name,config)\n",
    "pred = predict(model,test,'./result/submission_knnwithMeans1.csv')\n",
    "pred = predict(model,test)"
   ]
  },
  {
   "cell_type": "code",
   "execution_count": 8,
   "metadata": {},
   "outputs": [
    {
     "name": "stdout",
     "output_type": "stream",
     "text": [
      "Train complete\n",
      "RMSE: 1.9695\n",
      "Valid RMSE: 1.9694949380825861\n",
      "MSE: 3.8789\n",
      "Valid MSE: 3.87891031113293\n",
      "MAE:  1.3259\n",
      "Valid MAE: 1.325876360493804\n",
      "FCP:  0.5842\n",
      "Valid FCP: 0.5842063621978502\n"
     ]
    }
   ],
   "source": [
    "sim_options = {\n",
    "    \"name\": \"cosine\",\n",
    "    \"user_based\": False,  # compute  similarities between items\n",
    "    \n",
    "}\n",
    "sim_options1 = {\"name\": \"pearson_baseline\", \"shrinkage\": 0}\n",
    "config = {\n",
    "    \"k\":290,\n",
    "    \"min_k\":10,\n",
    "    \"sim_options\":sim_options1,\n",
    "    \"verbose\":False\n",
    "}\n",
    "###########################################grid search###########################################\n",
    "# param_grid = {\"k\": [i for i in range(10,300,10)], \"min_k\": [10,20,30,40,50,60], \"reg_all\":sim_options1}\n",
    "# reader = Reader(\n",
    "#         line_format=\"user item rating\",\n",
    "#         rating_scale=(0, 10),\n",
    "#         sep=',',\n",
    "#         skip_lines=1\n",
    "#     )\n",
    "# data = Dataset.load_from_file('New_data/train_data.csv', reader=reader)\n",
    "# gs = GridSearchCV(KNNWithZScore,param_grid,measures=['rmse','mae'],cv=5)\n",
    "# gs.fit(data)\n",
    "# print(gs.best_score[\"rmse\"])\n",
    "# print(gs.best_params[\"rmse\"])\n",
    "###########################################################################################\n",
    "model_name = \"KNNWithZScore\"\n",
    "model = fit(train,valid,model_name,config)\n",
    "# pred = predict(model,test,'./result/submission_knnwithZscore1.csv')\n",
    "pred = predict(model,test)"
   ]
  },
  {
   "cell_type": "code",
   "execution_count": 9,
   "metadata": {},
   "outputs": [
    {
     "name": "stdout",
     "output_type": "stream",
     "text": [
      "Train complete\n",
      "RMSE: 1.9084\n",
      "Valid RMSE: 1.908355508827917\n",
      "MSE: 3.6418\n",
      "Valid MSE: 3.641820748073858\n",
      "MAE:  1.3646\n",
      "Valid MAE: 1.36458292940818\n",
      "FCP:  0.5874\n",
      "Valid FCP: 0.5873763721213123\n"
     ]
    }
   ],
   "source": [
    "# config = {\n",
    "#     \"n_factors\":30,\n",
    "#     \"n_epochs\":50,\n",
    "#     \"lr_all\":0.001,\n",
    "#     \"reg_all\":0.0005,\n",
    "#     \"verbose\":False\n",
    "# } # https://surprise.readthedocs.io/en/stable/matrix_factorization.html#surprise.prediction_algorithms.matrix_factorization.SVD\n",
    "config = {\n",
    "    \"n_factors\":30,\n",
    "    \"n_epochs\":10,\n",
    "    \"lr_all\":0.005,\n",
    "    \"reg_all\":0.0005,\n",
    "    \"verbose\":False\n",
    "} \n",
    "###########################################grid search###########################################\n",
    "# param_grid = {\"n_epochs\": [i for i in range(5,50,5)], \"lr_all\": [0.001,0.002,0.003,0.004,0.005], \"reg_all\": [0.0005]}\n",
    "# reader = Reader(\n",
    "#         line_format=\"user item rating\",\n",
    "#         rating_scale=(0, 10),\n",
    "#         sep=',',\n",
    "#         skip_lines=1\n",
    "#     )\n",
    "# data = Dataset.load_from_file('New_data/train_data.csv', reader=reader)\n",
    "# gs = GridSearchCV(SVD,param_grid,measures=['rmse','mae'],cv=5)\n",
    "# gs.fit(data)\n",
    "# print(gs.best_score[\"rmse\"])\n",
    "# print(gs.best_params[\"rmse\"])\n",
    "###########################################################################################\n",
    "\n",
    "model_name = \"SVD\"\n",
    "model = fit(train, valid, model_name, config)\n",
    "# pred = predict(model, test, \"result/submission_SVD2.csv\")\n",
    "pred = predict(model, test)"
   ]
  },
  {
   "cell_type": "code",
   "execution_count": 18,
   "metadata": {},
   "outputs": [
    {
     "name": "stdout",
     "output_type": "stream",
     "text": [
      "Train complete\n",
      "RMSE: 1.9922\n",
      "Valid RMSE: 1.9922402473173002\n",
      "MSE: 3.9690\n",
      "Valid MSE: 3.9690212030308976\n",
      "MAE:  1.4237\n",
      "Valid MAE: 1.4236735803352034\n",
      "FCP:  0.6037\n",
      "Valid FCP: 0.6036947994432494\n",
      "Submission clear\n"
     ]
    }
   ],
   "source": [
    "config = {\n",
    "    \"n_factors\":40,\n",
    "    \"n_epochs\":50,\n",
    "    \"lr_all\":0.001,\n",
    "    \"reg_all\":0.0005,\n",
    "    \"verbose\":False\n",
    "} # https://surprise.readthedocs.io/en/stable/matrix_factorization.html#surprise.prediction_algorithms.matrix_factorization.SVDpp\n",
    "###########################################grid search###########################################\n",
    "# param_grid = {\"n_factors\":[i for i in range(10,70,5)],\"n_epochs\": [i for i in range(5,50,5)], \"lr_all\": [0.001,0.002,0.003,0.004,0.005], \"reg_all\": [0.0005]}\n",
    "# reader = Reader(\n",
    "#         line_format=\"user item rating\",\n",
    "#         rating_scale=(0, 10),\n",
    "#         sep=',',\n",
    "#         skip_lines=1\n",
    "#     )\n",
    "# data = Dataset.load_from_file('New_data/train_data.csv', reader=reader)\n",
    "# gs = GridSearchCV(SVD,param_grid,measures=['rmse','mae'],cv=5)\n",
    "# gs.fit(data)\n",
    "# print(gs.best_score[\"rmse\"])\n",
    "# print(gs.best_params[\"rmse\"])\n",
    "###########################################################################################\n",
    "model_name = \"SVD++\"\n",
    "model = fit(train, valid, model_name, config)\n",
    "pred = predict(model, test, \"result/submission_SVD++1.csv\")\n",
    "pred = predict(model, test)"
   ]
  },
  {
   "cell_type": "code",
   "execution_count": 16,
   "metadata": {},
   "outputs": [
    {
     "name": "stdout",
     "output_type": "stream",
     "text": [
      "Train complete\n",
      "RMSE: 2.1728\n",
      "Valid RMSE: 2.172777427047167\n",
      "MSE: 4.7210\n",
      "Valid MSE: 4.720961747485706\n",
      "MAE:  1.5707\n",
      "Valid MAE: 1.5706790034885167\n",
      "FCP:  0.5790\n",
      "Valid FCP: 0.5790172376843532\n"
     ]
    }
   ],
   "source": [
    "lr = 0.001\n",
    "reg = 0.0005\n",
    "\n",
    "config = {\n",
    "    \"n_factors\":30,\n",
    "    \"n_epochs\":50,\n",
    "    \"lr_bu\":lr,\n",
    "    \"lr_bi\":lr,\n",
    "    \"reg_pu\":reg,\n",
    "    \"reg_qi\":reg,\n",
    "    \"reg_bu\":reg,\n",
    "    \"reg_bi\":reg,\n",
    "    \"verbose\":False\n",
    "} # https://surprise.readthedocs.io/en/stable/matrix_factorization.html#surprise.prediction_algorithms.matrix_factorization.NMF\n",
    "###########################################grid search###########################################\n",
    "# param_grid = {\"n_factors\":[i for i in range(10,105,5)],\"n_epochs\": [i for i in range(5,105,5)], \"lr_bu\": [0.001,0.002,0.003,0.004,0.005],\"lr_bi\":[0.001,0.002,0.003,0.004,0.005],\"reg_pu\":[0.0001,0.0002,0.0003,0.0004,0.0005],\n",
    "#     \"reg_qi\":[0.0001,0.0002,0.0003,0.0004,0.0005],\n",
    "#     \"reg_bu\":[0.0001,0.0002,0.0003,0.0004,0.0005],\n",
    "#     \"reg_bi\":[0.0001,0.0002,0.0003,0.0004,0.0005]}\n",
    "# reader = Reader(\n",
    "#         line_format=\"user item rating\",\n",
    "#         rating_scale=(0, 10),\n",
    "#         sep=',',\n",
    "#         skip_lines=1\n",
    "#     )\n",
    "# data = Dataset.load_from_file('New_data/train_data.csv', reader=reader)\n",
    "# gs = GridSearchCV(SVD,param_grid,measures=['rmse','mae'],cv=5)\n",
    "# gs.fit(data)\n",
    "# print(gs.best_score[\"rmse\"])\n",
    "# print(gs.best_params[\"rmse\"])\n",
    "###########################################################################################\n",
    "model_name = \"NMF\"\n",
    "model = fit(train, valid, model_name, config)\n",
    "# pred = predict(model, test, \"result/submission_NMF.csv\")\n",
    "pred = predict(model, test)"
   ]
  },
  {
   "cell_type": "code",
   "execution_count": 16,
   "metadata": {},
   "outputs": [
    {
     "name": "stdout",
     "output_type": "stream",
     "text": [
      "Train complete\n",
      "RMSE: 1.9543\n",
      "Valid RMSE: 1.95425373207783\n",
      "MSE: 3.8191\n",
      "Valid MSE: 3.8191076493401264\n",
      "MAE:  1.3219\n",
      "Valid MAE: 1.3218941609554606\n",
      "FCP:  0.6061\n",
      "Valid FCP: 0.6060909213336155\n",
      "Submission clear\n"
     ]
    }
   ],
   "source": [
    "\n",
    "\n",
    "config = {} # https://surprise.readthedocs.io/en/stable/slope_one.html#surprise.prediction_algorithms.slope_one.SlopeOne\n",
    "\n",
    "model_name = \"SlopeOne\"\n",
    "model = fit(train, valid, model_name, config)\n",
    "pred = predict(model, test, \"result/submission_SlopeOne.csv\")\n",
    "pred = predict(model, test)"
   ]
  },
  {
   "cell_type": "code",
   "execution_count": 23,
   "metadata": {},
   "outputs": [
    {
     "name": "stdout",
     "output_type": "stream",
     "text": [
      "Train complete\n",
      "RMSE: 2.1573\n",
      "Valid RMSE: 2.157268934226735\n",
      "MSE: 4.6538\n",
      "Valid MSE: 4.653809254579752\n",
      "MAE:  1.4204\n",
      "Valid MAE: 1.4204177371566407\n",
      "FCP:  0.6071\n",
      "Valid FCP: 0.6070719511645767\n",
      "Submission clear\n"
     ]
    }
   ],
   "source": [
    "config = {\n",
    "    \"n_epochs\":100,\n",
    "    \"n_cltr_u\":10,\n",
    "    \"n_cltr_i\":10\n",
    "    } # https://surprise.readthedocs.io/en/stable/co_clustering.html#surprise.prediction_algorithms.co_clustering.CoClustering\n",
    "\n",
    "model_name = \"CoClustering\"\n",
    "model = fit(train, valid, model_name, config)\n",
    "pred = predict(model, test, \"result/submission_CoClustering.csv\")\n",
    "pred = predict(model, test)"
   ]
  }
 ],
 "metadata": {
  "kernelspec": {
   "display_name": "Python 3",
   "language": "python",
   "name": "python3"
  },
  "language_info": {
   "codemirror_mode": {
    "name": "ipython",
    "version": 3
   },
   "file_extension": ".py",
   "mimetype": "text/x-python",
   "name": "python",
   "nbconvert_exporter": "python",
   "pygments_lexer": "ipython3",
   "version": "3.7.16"
  },
  "orig_nbformat": 4,
  "vscode": {
   "interpreter": {
    "hash": "8addaabea1cb039ebd0cad50c57d5e545a2dd9c4864cd769240013056fee56e3"
   }
  }
 },
 "nbformat": 4,
 "nbformat_minor": 2
}
